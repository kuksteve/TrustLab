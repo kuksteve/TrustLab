{
 "cells": [
  {
   "cell_type": "code",
   "execution_count": 15,
   "id": "aa0a3af0",
   "metadata": {},
   "outputs": [],
   "source": [
    "import pandas as pd\n",
    "import numpy as np\n",
    "import seaborn as sns\n",
    "import matplotlib.pyplot as plt\n",
    "import patsy\n",
    "import statsmodels.api as sm \n",
    "\n",
    "#Data Import\n",
    "df = pd.read_csv('Beach_Water_Quality_Monitoring.csv')"
   ]
  },
  {
   "cell_type": "markdown",
   "id": "52ee9860",
   "metadata": {},
   "source": [
    "# Research Question and Background"
   ]
  },
  {
   "cell_type": "markdown",
   "id": "06c99f18",
   "metadata": {},
   "source": [
    "The San Francisco Department of Public Health and DataSF worked together to administer a program that monitors beach water quality in San Francisco. The water is first sampled then brought back to the microbiology lab to perform bacteriological analyses. The data below displays the water source, date of sample retrieval, the analysis, and amount of data collections.\n",
    "\n",
    "For this project, we will analyze analytes and the source of contamination to determine if there is a relationship between them. For example, would one source (ie. Bay) tend to have a higher chance of having a specific analyte (ie. Entero) than another source?"
   ]
  },
  {
   "cell_type": "markdown",
   "id": "4cf7deb7",
   "metadata": {},
   "source": [
    "# Data Cleaning"
   ]
  },
  {
   "cell_type": "code",
   "execution_count": 2,
   "id": "983d20ef",
   "metadata": {},
   "outputs": [
    {
     "data": {
      "text/html": [
       "<div>\n",
       "<style scoped>\n",
       "    .dataframe tbody tr th:only-of-type {\n",
       "        vertical-align: middle;\n",
       "    }\n",
       "\n",
       "    .dataframe tbody tr th {\n",
       "        vertical-align: top;\n",
       "    }\n",
       "\n",
       "    .dataframe thead th {\n",
       "        text-align: right;\n",
       "    }\n",
       "</style>\n",
       "<table border=\"1\" class=\"dataframe\">\n",
       "  <thead>\n",
       "    <tr style=\"text-align: right;\">\n",
       "      <th></th>\n",
       "      <th>source</th>\n",
       "      <th>sample_date</th>\n",
       "      <th>analyte</th>\n",
       "      <th>data</th>\n",
       "      <th>uniqueID</th>\n",
       "    </tr>\n",
       "  </thead>\n",
       "  <tbody>\n",
       "    <tr>\n",
       "      <th>0</th>\n",
       "      <td>BAY#211_SL</td>\n",
       "      <td>2020/08/31</td>\n",
       "      <td>COLI_E</td>\n",
       "      <td>74</td>\n",
       "      <td>00139E644FE04108821489A810D0AA9D</td>\n",
       "    </tr>\n",
       "    <tr>\n",
       "      <th>1</th>\n",
       "      <td>OCEAN#15_SL</td>\n",
       "      <td>2020/09/01</td>\n",
       "      <td>COLI_TOTAL</td>\n",
       "      <td>5475</td>\n",
       "      <td>012C756E5C2B04D033C90223C81FA39F</td>\n",
       "    </tr>\n",
       "    <tr>\n",
       "      <th>2</th>\n",
       "      <td>OCEAN#17_SL</td>\n",
       "      <td>2020/08/31</td>\n",
       "      <td>COLI_E</td>\n",
       "      <td>&lt;10</td>\n",
       "      <td>099D69C8E528B6CA3D6619A4AAB9DAA0</td>\n",
       "    </tr>\n",
       "    <tr>\n",
       "      <th>3</th>\n",
       "      <td>OCEAN#21.1_SL</td>\n",
       "      <td>2020/08/31</td>\n",
       "      <td>ENTERO</td>\n",
       "      <td>&lt;10</td>\n",
       "      <td>0CCA828DB4EDEC54F457CF157B8DF458</td>\n",
       "    </tr>\n",
       "    <tr>\n",
       "      <th>4</th>\n",
       "      <td>OCEAN#18_SL</td>\n",
       "      <td>2020/08/31</td>\n",
       "      <td>COLI_TOTAL</td>\n",
       "      <td>&lt;10</td>\n",
       "      <td>0F1A34327DD00E3B338832DAF87ACFB0</td>\n",
       "    </tr>\n",
       "    <tr>\n",
       "      <th>...</th>\n",
       "      <td>...</td>\n",
       "      <td>...</td>\n",
       "      <td>...</td>\n",
       "      <td>...</td>\n",
       "      <td>...</td>\n",
       "    </tr>\n",
       "    <tr>\n",
       "      <th>5630</th>\n",
       "      <td>OCEAN#22_SL</td>\n",
       "      <td>2021/12/14</td>\n",
       "      <td>COLI_TOTAL</td>\n",
       "      <td>620</td>\n",
       "      <td>3F1EDB14920BE7BD676613428D54A08B</td>\n",
       "    </tr>\n",
       "    <tr>\n",
       "      <th>5631</th>\n",
       "      <td>OCEAN#22_SL</td>\n",
       "      <td>2021/12/14</td>\n",
       "      <td>ENTERO</td>\n",
       "      <td>98</td>\n",
       "      <td>65AB0E1E9D4A2650EF83AD1416B568C4</td>\n",
       "    </tr>\n",
       "    <tr>\n",
       "      <th>5632</th>\n",
       "      <td>OCEAN#22_SL</td>\n",
       "      <td>2021/12/13</td>\n",
       "      <td>COLI_FECAL</td>\n",
       "      <td>195</td>\n",
       "      <td>B9E4FA29BF9BD850F9F03DE45F452233</td>\n",
       "    </tr>\n",
       "    <tr>\n",
       "      <th>5633</th>\n",
       "      <td>OCEAN#22_SL</td>\n",
       "      <td>2021/12/13</td>\n",
       "      <td>COLI_TOTAL</td>\n",
       "      <td>1000</td>\n",
       "      <td>16DC20B6DB67285F14E5239E1AFE1050</td>\n",
       "    </tr>\n",
       "    <tr>\n",
       "      <th>5634</th>\n",
       "      <td>OCEAN#22_SL</td>\n",
       "      <td>2021/12/13</td>\n",
       "      <td>ENTERO</td>\n",
       "      <td>120</td>\n",
       "      <td>0791B7B6BDD17E71D9A3E1AA8E18E20E</td>\n",
       "    </tr>\n",
       "  </tbody>\n",
       "</table>\n",
       "<p>5635 rows × 5 columns</p>\n",
       "</div>"
      ],
      "text/plain": [
       "             source sample_date     analyte  data  \\\n",
       "0        BAY#211_SL  2020/08/31      COLI_E    74   \n",
       "1       OCEAN#15_SL  2020/09/01  COLI_TOTAL  5475   \n",
       "2       OCEAN#17_SL  2020/08/31      COLI_E   <10   \n",
       "3     OCEAN#21.1_SL  2020/08/31      ENTERO   <10   \n",
       "4       OCEAN#18_SL  2020/08/31  COLI_TOTAL   <10   \n",
       "...             ...         ...         ...   ...   \n",
       "5630    OCEAN#22_SL  2021/12/14  COLI_TOTAL   620   \n",
       "5631    OCEAN#22_SL  2021/12/14      ENTERO    98   \n",
       "5632    OCEAN#22_SL  2021/12/13  COLI_FECAL   195   \n",
       "5633    OCEAN#22_SL  2021/12/13  COLI_TOTAL  1000   \n",
       "5634    OCEAN#22_SL  2021/12/13      ENTERO   120   \n",
       "\n",
       "                              uniqueID  \n",
       "0     00139E644FE04108821489A810D0AA9D  \n",
       "1     012C756E5C2B04D033C90223C81FA39F  \n",
       "2     099D69C8E528B6CA3D6619A4AAB9DAA0  \n",
       "3     0CCA828DB4EDEC54F457CF157B8DF458  \n",
       "4     0F1A34327DD00E3B338832DAF87ACFB0  \n",
       "...                                ...  \n",
       "5630  3F1EDB14920BE7BD676613428D54A08B  \n",
       "5631  65AB0E1E9D4A2650EF83AD1416B568C4  \n",
       "5632  B9E4FA29BF9BD850F9F03DE45F452233  \n",
       "5633  16DC20B6DB67285F14E5239E1AFE1050  \n",
       "5634  0791B7B6BDD17E71D9A3E1AA8E18E20E  \n",
       "\n",
       "[5635 rows x 5 columns]"
      ]
     },
     "execution_count": 2,
     "metadata": {},
     "output_type": "execute_result"
    }
   ],
   "source": [
    "df"
   ]
  },
  {
   "cell_type": "code",
   "execution_count": 3,
   "id": "c3d7a2f3",
   "metadata": {},
   "outputs": [
    {
     "data": {
      "text/plain": [
       "array(['BAY#211_SL', 'OCEAN#15_SL', 'OCEAN#17_SL', 'OCEAN#21.1_SL',\n",
       "       'OCEAN#18_SL', 'BAY#301.2_SL', 'BAY#300.1_SL', 'OCEAN#16_SL',\n",
       "       'OCEAN#19_SL', 'BAY#320_SL', 'OCEAN#15EAST_SL', 'BAY#202.5_SL',\n",
       "       'BAY#202.4_SL', 'BAY#301.1_SL', 'BAY#220_SL', 'BAY#210.1_SL',\n",
       "       'BAY#230_SL', 'OCEAN#22_SL', 'OCEAN#20_SL', 'OCEAN#21_SL'],\n",
       "      dtype=object)"
      ]
     },
     "execution_count": 3,
     "metadata": {},
     "output_type": "execute_result"
    }
   ],
   "source": [
    "df['analyte'].unique()\n",
    "df['source'].unique()"
   ]
  },
  {
   "cell_type": "code",
   "execution_count": 27,
   "id": "c34d681e",
   "metadata": {},
   "outputs": [
    {
     "data": {
      "text/plain": [
       "ENTERO        1877\n",
       "COLI_TOTAL    1873\n",
       "COLI_FECAL    1033\n",
       "COLI_E         848\n",
       "Name: analyte, dtype: int64"
      ]
     },
     "execution_count": 27,
     "metadata": {},
     "output_type": "execute_result"
    }
   ],
   "source": [
    "df['analyte'].value_counts()"
   ]
  },
  {
   "cell_type": "code",
   "execution_count": 4,
   "id": "ec6b9566",
   "metadata": {},
   "outputs": [
    {
     "name": "stdout",
     "output_type": "stream",
     "text": [
      "<class 'pandas.core.frame.DataFrame'>\n",
      "RangeIndex: 5635 entries, 0 to 5634\n",
      "Data columns (total 5 columns):\n",
      " #   Column       Non-Null Count  Dtype \n",
      "---  ------       --------------  ----- \n",
      " 0   source       5635 non-null   object\n",
      " 1   sample_date  5631 non-null   object\n",
      " 2   analyte      5631 non-null   object\n",
      " 3   data         5631 non-null   object\n",
      " 4   uniqueID     5635 non-null   object\n",
      "dtypes: object(5)\n",
      "memory usage: 220.2+ KB\n"
     ]
    }
   ],
   "source": [
    "df.info()"
   ]
  },
  {
   "cell_type": "code",
   "execution_count": 5,
   "id": "d9e3e5c9",
   "metadata": {},
   "outputs": [
    {
     "name": "stdout",
     "output_type": "stream",
     "text": [
      "<class 'pandas.core.frame.DataFrame'>\n",
      "RangeIndex: 5635 entries, 0 to 5634\n",
      "Data columns (total 5 columns):\n",
      " #   Column       Non-Null Count  Dtype         \n",
      "---  ------       --------------  -----         \n",
      " 0   source       5635 non-null   object        \n",
      " 1   sample_date  5631 non-null   datetime64[ns]\n",
      " 2   analyte      5631 non-null   object        \n",
      " 3   data         5631 non-null   object        \n",
      " 4   uniqueID     5635 non-null   object        \n",
      "dtypes: datetime64[ns](1), object(4)\n",
      "memory usage: 220.2+ KB\n"
     ]
    }
   ],
   "source": [
    "df.sample_date = pd.to_datetime(df.sample_date)\n",
    "df.info()"
   ]
  },
  {
   "cell_type": "code",
   "execution_count": 6,
   "id": "1a441463",
   "metadata": {},
   "outputs": [
    {
     "data": {
      "text/plain": [
       "source         0\n",
       "sample_date    4\n",
       "analyte        4\n",
       "data           4\n",
       "uniqueID       0\n",
       "dtype: int64"
      ]
     },
     "execution_count": 6,
     "metadata": {},
     "output_type": "execute_result"
    }
   ],
   "source": [
    "df.isna().sum()"
   ]
  },
  {
   "cell_type": "code",
   "execution_count": 7,
   "id": "efbe1e28",
   "metadata": {},
   "outputs": [],
   "source": [
    "#drop null columns\n",
    "df.dropna(inplace=True)\n",
    "df.reset_index(drop=True, inplace=True)"
   ]
  },
  {
   "cell_type": "code",
   "execution_count": 8,
   "id": "08974643",
   "metadata": {},
   "outputs": [
    {
     "data": {
      "text/html": [
       "<div>\n",
       "<style scoped>\n",
       "    .dataframe tbody tr th:only-of-type {\n",
       "        vertical-align: middle;\n",
       "    }\n",
       "\n",
       "    .dataframe tbody tr th {\n",
       "        vertical-align: top;\n",
       "    }\n",
       "\n",
       "    .dataframe thead th {\n",
       "        text-align: right;\n",
       "    }\n",
       "</style>\n",
       "<table border=\"1\" class=\"dataframe\">\n",
       "  <thead>\n",
       "    <tr style=\"text-align: right;\">\n",
       "      <th></th>\n",
       "      <th>source</th>\n",
       "      <th>sample_date</th>\n",
       "      <th>analyte</th>\n",
       "      <th>data</th>\n",
       "      <th>uniqueID</th>\n",
       "    </tr>\n",
       "  </thead>\n",
       "  <tbody>\n",
       "    <tr>\n",
       "      <th>0</th>\n",
       "      <td>BAY#211_SL</td>\n",
       "      <td>2020-08-31</td>\n",
       "      <td>COLI_E</td>\n",
       "      <td>74</td>\n",
       "      <td>00139E644FE04108821489A810D0AA9D</td>\n",
       "    </tr>\n",
       "    <tr>\n",
       "      <th>1</th>\n",
       "      <td>OCEAN#15_SL</td>\n",
       "      <td>2020-09-01</td>\n",
       "      <td>COLI_TOTAL</td>\n",
       "      <td>5475</td>\n",
       "      <td>012C756E5C2B04D033C90223C81FA39F</td>\n",
       "    </tr>\n",
       "    <tr>\n",
       "      <th>2</th>\n",
       "      <td>OCEAN#17_SL</td>\n",
       "      <td>2020-08-31</td>\n",
       "      <td>COLI_E</td>\n",
       "      <td>&lt;10</td>\n",
       "      <td>099D69C8E528B6CA3D6619A4AAB9DAA0</td>\n",
       "    </tr>\n",
       "    <tr>\n",
       "      <th>3</th>\n",
       "      <td>OCEAN#21.1_SL</td>\n",
       "      <td>2020-08-31</td>\n",
       "      <td>ENTERO</td>\n",
       "      <td>&lt;10</td>\n",
       "      <td>0CCA828DB4EDEC54F457CF157B8DF458</td>\n",
       "    </tr>\n",
       "    <tr>\n",
       "      <th>4</th>\n",
       "      <td>OCEAN#18_SL</td>\n",
       "      <td>2020-08-31</td>\n",
       "      <td>COLI_TOTAL</td>\n",
       "      <td>&lt;10</td>\n",
       "      <td>0F1A34327DD00E3B338832DAF87ACFB0</td>\n",
       "    </tr>\n",
       "    <tr>\n",
       "      <th>...</th>\n",
       "      <td>...</td>\n",
       "      <td>...</td>\n",
       "      <td>...</td>\n",
       "      <td>...</td>\n",
       "      <td>...</td>\n",
       "    </tr>\n",
       "    <tr>\n",
       "      <th>5626</th>\n",
       "      <td>OCEAN#22_SL</td>\n",
       "      <td>2021-12-14</td>\n",
       "      <td>COLI_TOTAL</td>\n",
       "      <td>620</td>\n",
       "      <td>3F1EDB14920BE7BD676613428D54A08B</td>\n",
       "    </tr>\n",
       "    <tr>\n",
       "      <th>5627</th>\n",
       "      <td>OCEAN#22_SL</td>\n",
       "      <td>2021-12-14</td>\n",
       "      <td>ENTERO</td>\n",
       "      <td>98</td>\n",
       "      <td>65AB0E1E9D4A2650EF83AD1416B568C4</td>\n",
       "    </tr>\n",
       "    <tr>\n",
       "      <th>5628</th>\n",
       "      <td>OCEAN#22_SL</td>\n",
       "      <td>2021-12-13</td>\n",
       "      <td>COLI_FECAL</td>\n",
       "      <td>195</td>\n",
       "      <td>B9E4FA29BF9BD850F9F03DE45F452233</td>\n",
       "    </tr>\n",
       "    <tr>\n",
       "      <th>5629</th>\n",
       "      <td>OCEAN#22_SL</td>\n",
       "      <td>2021-12-13</td>\n",
       "      <td>COLI_TOTAL</td>\n",
       "      <td>1000</td>\n",
       "      <td>16DC20B6DB67285F14E5239E1AFE1050</td>\n",
       "    </tr>\n",
       "    <tr>\n",
       "      <th>5630</th>\n",
       "      <td>OCEAN#22_SL</td>\n",
       "      <td>2021-12-13</td>\n",
       "      <td>ENTERO</td>\n",
       "      <td>120</td>\n",
       "      <td>0791B7B6BDD17E71D9A3E1AA8E18E20E</td>\n",
       "    </tr>\n",
       "  </tbody>\n",
       "</table>\n",
       "<p>5631 rows × 5 columns</p>\n",
       "</div>"
      ],
      "text/plain": [
       "             source sample_date     analyte  data  \\\n",
       "0        BAY#211_SL  2020-08-31      COLI_E    74   \n",
       "1       OCEAN#15_SL  2020-09-01  COLI_TOTAL  5475   \n",
       "2       OCEAN#17_SL  2020-08-31      COLI_E   <10   \n",
       "3     OCEAN#21.1_SL  2020-08-31      ENTERO   <10   \n",
       "4       OCEAN#18_SL  2020-08-31  COLI_TOTAL   <10   \n",
       "...             ...         ...         ...   ...   \n",
       "5626    OCEAN#22_SL  2021-12-14  COLI_TOTAL   620   \n",
       "5627    OCEAN#22_SL  2021-12-14      ENTERO    98   \n",
       "5628    OCEAN#22_SL  2021-12-13  COLI_FECAL   195   \n",
       "5629    OCEAN#22_SL  2021-12-13  COLI_TOTAL  1000   \n",
       "5630    OCEAN#22_SL  2021-12-13      ENTERO   120   \n",
       "\n",
       "                              uniqueID  \n",
       "0     00139E644FE04108821489A810D0AA9D  \n",
       "1     012C756E5C2B04D033C90223C81FA39F  \n",
       "2     099D69C8E528B6CA3D6619A4AAB9DAA0  \n",
       "3     0CCA828DB4EDEC54F457CF157B8DF458  \n",
       "4     0F1A34327DD00E3B338832DAF87ACFB0  \n",
       "...                                ...  \n",
       "5626  3F1EDB14920BE7BD676613428D54A08B  \n",
       "5627  65AB0E1E9D4A2650EF83AD1416B568C4  \n",
       "5628  B9E4FA29BF9BD850F9F03DE45F452233  \n",
       "5629  16DC20B6DB67285F14E5239E1AFE1050  \n",
       "5630  0791B7B6BDD17E71D9A3E1AA8E18E20E  \n",
       "\n",
       "[5631 rows x 5 columns]"
      ]
     },
     "execution_count": 8,
     "metadata": {},
     "output_type": "execute_result"
    }
   ],
   "source": [
    "df"
   ]
  },
  {
   "cell_type": "code",
   "execution_count": 9,
   "id": "a3a66b0d",
   "metadata": {},
   "outputs": [
    {
     "data": {
      "text/html": [
       "<div>\n",
       "<style scoped>\n",
       "    .dataframe tbody tr th:only-of-type {\n",
       "        vertical-align: middle;\n",
       "    }\n",
       "\n",
       "    .dataframe tbody tr th {\n",
       "        vertical-align: top;\n",
       "    }\n",
       "\n",
       "    .dataframe thead th {\n",
       "        text-align: right;\n",
       "    }\n",
       "</style>\n",
       "<table border=\"1\" class=\"dataframe\">\n",
       "  <thead>\n",
       "    <tr style=\"text-align: right;\">\n",
       "      <th></th>\n",
       "      <th>source</th>\n",
       "      <th>source_2</th>\n",
       "      <th>sample_date</th>\n",
       "      <th>analyte</th>\n",
       "    </tr>\n",
       "  </thead>\n",
       "  <tbody>\n",
       "    <tr>\n",
       "      <th>0</th>\n",
       "      <td>BAY#211_SL</td>\n",
       "      <td>Bay</td>\n",
       "      <td>2020-08-31</td>\n",
       "      <td>COLI_E</td>\n",
       "    </tr>\n",
       "    <tr>\n",
       "      <th>1</th>\n",
       "      <td>OCEAN#15_SL</td>\n",
       "      <td>Ocean</td>\n",
       "      <td>2020-09-01</td>\n",
       "      <td>COLI_TOTAL</td>\n",
       "    </tr>\n",
       "    <tr>\n",
       "      <th>2</th>\n",
       "      <td>OCEAN#17_SL</td>\n",
       "      <td>Ocean</td>\n",
       "      <td>2020-08-31</td>\n",
       "      <td>COLI_E</td>\n",
       "    </tr>\n",
       "    <tr>\n",
       "      <th>3</th>\n",
       "      <td>OCEAN#21.1_SL</td>\n",
       "      <td>Ocean</td>\n",
       "      <td>2020-08-31</td>\n",
       "      <td>ENTERO</td>\n",
       "    </tr>\n",
       "    <tr>\n",
       "      <th>4</th>\n",
       "      <td>OCEAN#18_SL</td>\n",
       "      <td>Ocean</td>\n",
       "      <td>2020-08-31</td>\n",
       "      <td>COLI_TOTAL</td>\n",
       "    </tr>\n",
       "    <tr>\n",
       "      <th>...</th>\n",
       "      <td>...</td>\n",
       "      <td>...</td>\n",
       "      <td>...</td>\n",
       "      <td>...</td>\n",
       "    </tr>\n",
       "    <tr>\n",
       "      <th>5626</th>\n",
       "      <td>OCEAN#22_SL</td>\n",
       "      <td>Ocean</td>\n",
       "      <td>2021-12-14</td>\n",
       "      <td>COLI_TOTAL</td>\n",
       "    </tr>\n",
       "    <tr>\n",
       "      <th>5627</th>\n",
       "      <td>OCEAN#22_SL</td>\n",
       "      <td>Ocean</td>\n",
       "      <td>2021-12-14</td>\n",
       "      <td>ENTERO</td>\n",
       "    </tr>\n",
       "    <tr>\n",
       "      <th>5628</th>\n",
       "      <td>OCEAN#22_SL</td>\n",
       "      <td>Ocean</td>\n",
       "      <td>2021-12-13</td>\n",
       "      <td>COLI_FECAL</td>\n",
       "    </tr>\n",
       "    <tr>\n",
       "      <th>5629</th>\n",
       "      <td>OCEAN#22_SL</td>\n",
       "      <td>Ocean</td>\n",
       "      <td>2021-12-13</td>\n",
       "      <td>COLI_TOTAL</td>\n",
       "    </tr>\n",
       "    <tr>\n",
       "      <th>5630</th>\n",
       "      <td>OCEAN#22_SL</td>\n",
       "      <td>Ocean</td>\n",
       "      <td>2021-12-13</td>\n",
       "      <td>ENTERO</td>\n",
       "    </tr>\n",
       "  </tbody>\n",
       "</table>\n",
       "<p>5631 rows × 4 columns</p>\n",
       "</div>"
      ],
      "text/plain": [
       "             source source_2 sample_date     analyte\n",
       "0        BAY#211_SL      Bay  2020-08-31      COLI_E\n",
       "1       OCEAN#15_SL    Ocean  2020-09-01  COLI_TOTAL\n",
       "2       OCEAN#17_SL    Ocean  2020-08-31      COLI_E\n",
       "3     OCEAN#21.1_SL    Ocean  2020-08-31      ENTERO\n",
       "4       OCEAN#18_SL    Ocean  2020-08-31  COLI_TOTAL\n",
       "...             ...      ...         ...         ...\n",
       "5626    OCEAN#22_SL    Ocean  2021-12-14  COLI_TOTAL\n",
       "5627    OCEAN#22_SL    Ocean  2021-12-14      ENTERO\n",
       "5628    OCEAN#22_SL    Ocean  2021-12-13  COLI_FECAL\n",
       "5629    OCEAN#22_SL    Ocean  2021-12-13  COLI_TOTAL\n",
       "5630    OCEAN#22_SL    Ocean  2021-12-13      ENTERO\n",
       "\n",
       "[5631 rows x 4 columns]"
      ]
     },
     "execution_count": 9,
     "metadata": {},
     "output_type": "execute_result"
    }
   ],
   "source": [
    "#make new column, adjust colum positions, remove unique ID column,\n",
    "df.loc[df['source'].str.contains('BAY'), 'source_2'] = 'Bay'\n",
    "df.loc[df['source'].str.contains('OCEAN'), 'source_2'] = 'Ocean'\n",
    "df = df[['source','source_2','sample_date','analyte']]\n",
    "df"
   ]
  },
  {
   "cell_type": "markdown",
   "id": "8a85ccf5",
   "metadata": {},
   "source": [
    "# Data Analysis and EDA"
   ]
  },
  {
   "cell_type": "code",
   "execution_count": 10,
   "id": "1e80a88e",
   "metadata": {},
   "outputs": [
    {
     "data": {
      "text/plain": [
       "[Text(0.5, 0, 'Source')]"
      ]
     },
     "execution_count": 10,
     "metadata": {},
     "output_type": "execute_result"
    },
    {
     "data": {
      "image/png": "[encoded data removed]",
      "text/plain": [
       "<Figure size 720x360 with 1 Axes>"
      ]
     },
     "metadata": {
      "needs_background": "light"
     },
     "output_type": "display_data"
    }
   ],
   "source": [
    "fig, ax = plt.subplots(figsize=(10,5))\n",
    "\n",
    "graph = sns.histplot(data = df, x = 'source_2', hue = 'analyte', multiple = 'dodge')\n",
    "for container in graph.containers:\n",
    "    graph.bar_label(container)\n",
    "\n",
    "graph.set(xlabel = 'Source')"
   ]
  },
  {
   "cell_type": "markdown",
   "id": "9daad0a3",
   "metadata": {},
   "source": [
    "From this graph, we can see that generally, Bay has the most occurances of analytes from their sampling. This could mean that the Bay has more bacteria than Oceans in their water and that Ocean water quality is better. Though, it is also important to look at this based on proportion because it could just be that they are more often sourcing from Bay than Ocean. "
   ]
  },
  {
   "cell_type": "code",
   "execution_count": 11,
   "id": "532e039e",
   "metadata": {},
   "outputs": [
    {
     "data": {
      "text/plain": [
       "[Text(0.5, 0, 'Source')]"
      ]
     },
     "execution_count": 11,
     "metadata": {},
     "output_type": "execute_result"
    },
    {
     "data": {
      "image/png": "[encoded data removed]",
      "text/plain": [
       "<Figure size 720x360 with 1 Axes>"
      ]
     },
     "metadata": {
      "needs_background": "light"
     },
     "output_type": "display_data"
    }
   ],
   "source": [
    "fig, ax = plt.subplots(figsize=(10,5))\n",
    "\n",
    "graph_2 = sns.histplot(data = df, x = 'source_2', hue = 'analyte', multiple = 'dodge', stat = 'probability', common_norm = False)\n",
    "for container in graph_2.containers:\n",
    "    graph_2.bar_label(container)\n",
    "\n",
    "graph_2.set(xlabel = 'Source')"
   ]
  },
  {
   "cell_type": "markdown",
   "id": "4a42e5df",
   "metadata": {},
   "source": [
    "From this, we again see the trend where the Bay's water has more contaminations than Oceans. We can also see that generally, Bay waters have a higher probability being contaminated than ocean waters. Next we will break down the sources and visualize it"
   ]
  },
  {
   "cell_type": "code",
   "execution_count": 12,
   "id": "d83e76d5",
   "metadata": {},
   "outputs": [
    {
     "data": {
      "image/png": "[encoded data removed]",
      "text/plain": [
       "<Figure size 720x720 with 2 Axes>"
      ]
     },
     "metadata": {
      "needs_background": "light"
     },
     "output_type": "display_data"
    }
   ],
   "source": [
    "fig, axes = plt.subplots(2,1,figsize=(10,10))\n",
    "fig.tight_layout(h_pad = 5.0)\n",
    "\n",
    "bay_df = df[(df['source_2'] == 'Bay')]\n",
    "ocean_df = df[(df['source_2'] == 'Ocean')]\n",
    "\n",
    "graph_3 = sns.histplot(data = bay_df, x = 'source', hue = 'analyte', multiple = 'dodge',ax=axes[0])\n",
    "for container in graph_3.containers:\n",
    "    graph_3.bar_label(container)\n",
    "\n",
    "graph_4 = sns.histplot(data = ocean_df, x = 'source', hue = 'analyte', multiple = 'dodge',ax=axes[1])\n",
    "for container in graph_4.containers:\n",
    "    graph_4.bar_label(container)\n",
    "    \n",
    "axes[0].tick_params(axis='x', rotation=45)\n",
    "axes[1].tick_params(axis='x', rotation=45)"
   ]
  },
  {
   "cell_type": "markdown",
   "id": "17b06ac7",
   "metadata": {},
   "source": [
    "These graphs show that, Bay and Ocean water again has the general trend where they have more contaminations from Entero and Coli_total followed by Coli_fecal and Coli_E throughout samplings."
   ]
  },
  {
   "cell_type": "markdown",
   "id": "cfc6e820",
   "metadata": {},
   "source": [
    "# Conclusion & Discussion"
   ]
  },
  {
   "cell_type": "markdown",
   "id": "112bd1b0",
   "metadata": {},
   "source": [
    "To conclude, based on the available data, we were able to find a trend where sources of contamination of bacteria most of the time were from Bay water sources rather than Ocean water sources. While further breaking down the data, we found that the majority of bacteria categorized as either Entero or Coli-total. To answer our research question of whether a specific source would have a higher chance of containing a specific analyte than another source, we see that all different types of analyte contaminations have a higher chance of being in Bay waters than Ocean waters. Though, there could be a variety of factors that come into play that have confounding effects. For example, there could generally just be more samplings at the Bay compared to Oceans, which would skew our correlational results towards the Bay. In the future, to future this question, we could further break down the data and look at each source independently."
   ]
  },
  {
   "cell_type": "markdown",
   "id": "39704b95",
   "metadata": {},
   "source": [
    "Summary document that includes:\n",
    "Your thought process and analysis goals\n",
    "The analysis goal was to find a water source that would be more likely to contain one analyte than another. For example, I was hoping to find something along the lines of \"Bay waters tend to have a higher concentration of Entero whereas Ocean waters tend to have a higher concentration of Coli-E.\"\n",
    "\n",
    "Your approach\n",
    "My approach was to first clean the data and get everything ready, then make data visualizations and see if I could find any relationships between source and analyte columns. Then, I would break down each column and to see specific details.\n",
    "\n",
    "What worked and what didn’t\n",
    "I think what worked was the technical part of the project, what didn't work was the results. The results that I received was not what I thought I would receive.\n",
    "\n",
    "Analysis of statistical significance of your findings\n",
    "See Conclusion & Discussion\n",
    "\n",
    "Any assumptions you made\n",
    "I made an assumption that the samplings of different analytes would be more diverse, which would produce a more cohesive and well-rounded analysis, but in reality, the data was more one-sided\n"
   ]
  }
 ],
 "metadata": {
  "kernelspec": {
   "display_name": "Python 3 (ipykernel)",
   "language": "python",
   "name": "python3"
  },
  "language_info": {
   "codemirror_mode": {
    "name": "ipython",
    "version": 3
   },
   "file_extension": ".py",
   "mimetype": "text/x-python",
   "name": "python",
   "nbconvert_exporter": "python",
   "pygments_lexer": "ipython3",
   "version": "3.9.5"
  }
 },
 "nbformat": 4,
 "nbformat_minor": 5
}
